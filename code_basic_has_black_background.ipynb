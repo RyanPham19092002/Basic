{
 "cells": [
  {
   "cell_type": "code",
   "execution_count": 6,
   "metadata": {},
   "outputs": [],
   "source": [
    "import cv2\n",
    "import os\n",
    "import numpy as np\n",
    "\n",
    "# Create folder to save frames with has a part of black backgroud\n",
    "if not os.path.exists('frames_has_black_background'):\n",
    "    os.makedirs('frames_has_black_background')\n",
    "# Read video\n",
    "cap = cv2.VideoCapture('D:/cuoc_thi/Basic/Intersection.mp4')\n",
    "frame_count = 0\n",
    "# Generate random\n",
    "rng = np.random.default_rng()\n",
    "while True:\n",
    "    # Read each of frame in video\n",
    "    ret, frame = cap.read()\n",
    "    if ret:\n",
    "        #Convert frame to grayscale\n",
    "        gray_frame = cv2.cvtColor(frame, cv2.COLOR_BGR2GRAY)\n",
    "        #Flip frame\n",
    "        flipped_frame = cv2.flip(gray_frame, 1)\n",
    "        #Rotate frame with random degree from -15 degree to 15 degree\n",
    "        angle = rng.integers(-15, 15)\n",
    "        (h, w) = flipped_frame.shape[:2]\n",
    "        center = (w // 2, h // 2)\n",
    "        M = cv2.getRotationMatrix2D(center, angle, 1.0)\n",
    "        rotated_frame = cv2.warpAffine(flipped_frame, M, (w, h))\n",
    "\n",
    "        # Add noise\n",
    "        noisy_frame = rotated_frame + np.random.normal(0, 10, rotated_frame.shape)\n",
    "        # Save frame to the folder\n",
    "        cv2.imwrite('frames_has_black_background/frame{:d}.jpg'.format(frame_count), noisy_frame)\n",
    "        frame_count += 1\n",
    "    else:\n",
    "        break\n",
    "\n",
    "# Release\n",
    "cap.release()\n",
    "cv2.destroyAllWindows()"
   ]
  }
 ],
 "metadata": {
  "kernelspec": {
   "display_name": "env_name",
   "language": "python",
   "name": "python3"
  },
  "language_info": {
   "codemirror_mode": {
    "name": "ipython",
    "version": 3
   },
   "file_extension": ".py",
   "mimetype": "text/x-python",
   "name": "python",
   "nbconvert_exporter": "python",
   "pygments_lexer": "ipython3",
   "version": "3.8.16"
  },
  "orig_nbformat": 4
 },
 "nbformat": 4,
 "nbformat_minor": 2
}
