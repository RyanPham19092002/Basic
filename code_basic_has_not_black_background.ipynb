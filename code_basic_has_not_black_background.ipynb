{
 "cells": [
  {
   "cell_type": "code",
   "execution_count": null,
   "metadata": {},
   "outputs": [],
   "source": [
    "import cv2\n",
    "import random\n",
    "import numpy as np\n",
    "import os\n",
    "\n",
    "# create folder to save frames with has not black backgroud\n",
    "if not os.path.exists('frames_has_not_black_background'):\n",
    "    os.makedirs('frames_has_not_black_background')\n",
    "# Read video\n",
    "cap = cv2.VideoCapture('D:/cuoc_thi/Basic/Intersection.mp4')\n",
    "# Generate random\n",
    "rng = np.random.default_rng()\n",
    "\n",
    "frame_count = 0\n",
    "while cap.isOpened():\n",
    "    # Read each of frame in video\n",
    "    ret, frame = cap.read()\n",
    "    if ret:\n",
    "        #Convert frame to grayscale\n",
    "        gray_frame = cv2.cvtColor(frame, cv2.COLOR_BGR2GRAY)\n",
    "\n",
    "         #Flip frame\n",
    "        flipped_image = cv2.flip(gray_frame, 1)\n",
    "\n",
    "        #Rotate frame with random degree from -15 degree to 15 degree\n",
    "        angle = rng.integers(-15, 15)\n",
    "        (h, w) = flipped_image.shape[:2]\n",
    "        center = (w // 2, h // 2)\n",
    "        M = cv2.getRotationMatrix2D(center, angle, 1.0)\n",
    "        #Use cv2.BORDER_RELICATE to add pixels boader to avoide black background\n",
    "        rotated_image = cv2.warpAffine(flipped_image, M, (w, h), borderMode=cv2.BORDER_REPLICATE)\n",
    "\n",
    "        # Add noise\n",
    "        noisy_image = rotated_image + np.random.normal(0, 15, rotated_image.shape)\n",
    "\n",
    "       # Save frame to the folder\n",
    "        cv2.imwrite('frames_has_not_black_background/frame{:d}.jpg'.format(frame_count), noisy_image)\n",
    "        frame_count += 1\n",
    "    else:\n",
    "        break\n",
    "\n",
    "# Release\n",
    "cap.release()\n",
    "cv2.destroyAllWindows()"
   ]
  }
 ],
 "metadata": {
  "language_info": {
   "name": "python"
  },
  "orig_nbformat": 4
 },
 "nbformat": 4,
 "nbformat_minor": 2
}
